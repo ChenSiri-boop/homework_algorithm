{
 "cells": [
  {
   "cell_type": "markdown",
   "metadata": {},
   "source": [
    "## algorithm design and anlysis-2025 spring  homework 2\n",
    "**Deadline**：2025.5.14\n",
    "\n",
    "**name**:陈欣蕊\n",
    "\n",
    "\n",
    "note：\n",
    "---\n",
    "1. 带有\\*的题目，申请免上课的同学，必须完成，其他同学选作；\n",
    "2. 请独立完成，如求助了他人或者大模型，请著明，并且不可省略算法分析部分；\n",
    "4. 如若作答有雷同，全部取消成绩；\n",
    "3. 需要书面作答的题目，可以通过引用图片的形式添加，但是注意上传项目时包含所引用的图片的源文件；\n",
    "4. $log_n$ 默认表示$log_2{n}$;"
   ]
  },
  {
   "cell_type": "markdown",
   "metadata": {},
   "source": [
    "## 问题 1  \n",
    "\n",
    "> 给定一个已排序的链表的头 `head` ， *删除所有重复的元素，使每个元素只出现一次* 。返回 *已排序的链表* 。链表的类如下所示：\n",
    "\n",
    "```python\n",
    "class NodeList:\n",
    "    def __init__(self, val=None, right=None):\n",
    "        self.val   = val\n",
    "        self.right = right\n",
    "```\n",
    "\n",
    "输入是一个数组，你首先需要将数组转化为链表，然后删除链表中的重复元素，再遍历链表元素，以一个数组的形式返回。请设计一个算法解决上述任务，分析算法设计思路，计算时间复杂度, 并基于python编程实现。\n",
    "\n",
    "e.g.  输入：head=[1, 1, 2, 3, 3]   输出：[1, 2, 3]\n",
    "\n",
    "![image-20240502110020439](./fig/hw2q1.png)\n",
    "\n"
   ]
  },
  {
   "cell_type": "markdown",
   "metadata": {},
   "source": [
    "idea："
   ]
  },
  {
   "cell_type": "code",
   "execution_count": 1,
   "metadata": {},
   "outputs": [
    {
     "name": "stdout",
     "output_type": "stream",
     "text": [
      "[1, 2, 3]\n"
     ]
    }
   ],
   "source": [
    "# add your idea here\n",
    "class NodeList:\n",
    "    def __init__(self, val=None, right=None):\n",
    "        self.val = val\n",
    "        self.right = right\n",
    "\n",
    "def array_to_linked_list(arr):\n",
    "    if not arr:\n",
    "        return None\n",
    "    head = NodeList(arr[0])\n",
    "    current = head\n",
    "    for value in arr[1:]:\n",
    "        current.right = NodeList(value)\n",
    "        current = current.right\n",
    "    return head\n",
    "\n",
    "def remove_duplicates(head):\n",
    "    current = head\n",
    "    while current and current.right:\n",
    "        if current.val == current.right.val:\n",
    "            current.right = current.right.right \n",
    "        else:\n",
    "            current = current.right \n",
    "    return head\n",
    "\n",
    "def linked_list_to_array(head):\n",
    "    result = []\n",
    "    current = head\n",
    "    while current:\n",
    "        result.append(current.val)\n",
    "        current = current.right\n",
    "    return result\n",
    "\n",
    "def remove_duplicates_from_sorted_array(arr):\n",
    "    head = array_to_linked_list(arr)  \n",
    "    head = remove_duplicates(head)    \n",
    "    return linked_list_to_array(head)  \n",
    "\n",
    "arr = [1, 1, 2, 3, 3]\n",
    "result = remove_duplicates_from_sorted_array(arr)\n",
    "print(result)\n",
    "\n",
    "# your algorithm time complexity is:O(n)\n",
    "# 1.构建链表：先从输入的数组创建一个链表，使其按照原来的顺序连接。\n",
    "# 2.删除重复元素：由于链表是已排序的，我们只需要遍历一次链表，比较当前节点 current 和下一个节点 current.right 的值：\n",
    "#   如果值相等，跳过 current.right，使 current.right = current.right.right。\n",
    "#   如果值不相等，则继续移动 current 指针。\n",
    "# 3.遍历链表并返回数组：依次遍历链表，将每个节点的值添加到数组中，并返回该数组。"
   ]
  },
  {
   "cell_type": "markdown",
   "metadata": {},
   "source": [
    "## 问题 2  \n",
    "\n",
    "> 下面是一个经典的算法问题：\n",
    ">\n",
    "> - 给定包含n个整数的一个整数数组 `nums` 和一个整数目标值 `target`，请你在该数组中找出 **和为目标值** *`target`* 的那 **两个** 整数，并返回它们的**数组下标**。假设每种输入只会对应一个答案。但是，数组中同一个元素在答案里不能重复出现。你可以按任意顺序返回答案。\n",
    ">\n",
    "> 由于要多次查找数组中元素的位置，为了提高查询效率可以使用哈希表来存储数组中的数据，在哈希表中查询一个元素的复杂度为O(1)。 已知python中的字典是使用哈希表实现的，即使用`dict[key]`查询对应的value时间复杂度为O(1), python提供了查询字典是否包含某个key的功能：`key in dict`，时间复杂度也是O(1)\n",
    "\n",
    "请根据上面信息，设计一个时间复杂度为O(n) 的算法，解决上述算法问题\n",
    "\n",
    "e.g.   \n",
    "\n",
    "输入：nums=[2,7,11,15], target=9， 输出：[0，1]\n",
    "\n",
    "输入：nums=[3,2,4], target=6, 输出：[1,2]\n",
    "\n",
    "输入：nums=[3,3], target=6,  输出：[0,1]\n"
   ]
  },
  {
   "cell_type": "code",
   "execution_count": 2,
   "metadata": {},
   "outputs": [
    {
     "name": "stdout",
     "output_type": "stream",
     "text": [
      "[0, 1]\n",
      "[1, 2]\n",
      "[0, 1]\n"
     ]
    }
   ],
   "source": [
    "# add your idea here\n",
    "def two_sum(nums, target):\n",
    "    hash_map = {} \n",
    "    for i, num in enumerate(nums):\n",
    "        complement = target - num \n",
    "        if complement in hash_map:\n",
    "            return [hash_map[complement], i]  \n",
    "        hash_map[num] = i \n",
    "    return [] \n",
    "\n",
    "nums1 = [2, 7, 11, 15]\n",
    "nums2 = [3,2,4]\n",
    "nums3 = [3,3]\n",
    "target1 = 9\n",
    "target2 = 6\n",
    "target3 = 6\n",
    "result1 = two_sum(nums1, target1)\n",
    "result2 = two_sum(nums2, target2)\n",
    "result3 = two_sum(nums3, target3)\n",
    "print(result1)  \n",
    "print(result2) \n",
    "print(result3)  \n",
    "\n",
    "# your algorithm time complexity is: O(n)"
   ]
  },
  {
   "cell_type": "markdown",
   "metadata": {},
   "source": [
    "## 问题 3:   \n",
    "\n",
    "> 栈是一种常用的数据结构，编译器中通常使用栈来实现表达式求值。\n",
    ">\n",
    "> 以表达式 $3+5 \\times 8-6$​ 为例。编译器使用两个栈来完成运算，即一个栈保持操作数，另一个栈保存运算符。\n",
    ">\n",
    "> 1. 从左向右遍历表达式，遇到数字就压入操作数栈；\n",
    ">\n",
    "> 2. 遇到运算符，就与运算符栈的栈顶元素进行比较。如果比运算符栈顶元素的优先级高，就将当前运算符压入栈；如果比运算符栈顶元素的优先级低或者相同，从运算符栈中取栈顶运算符，从操作数栈的栈顶取 2 个操作数，然后进行计算，再把计算完的结果压入操作数栈，继续比较。\n",
    ">\n",
    "> 下图是 $3+5 \\times 8-6$  这个表达式的计算过程：\n",
    "\n",
    "![figure](./fig/hw2q3.png)\n",
    "\n",
    "根据上述原理，请设计一个算法完成表达式的运算，当输入为表达式字符串，返回对应的计算结果。分析算法设计思路，计算时间复杂度，并基于python编程实现\n",
    "\n",
    "**note：**\n",
    "\n",
    "1. 假设输入的表达式只会出现加（“+”），减 “-”， 乘“*”，除 “/” 四个运算符, 表达式中只会出现正整数\n",
    "2. python中` str.isdigit()`函数可以判断字符串str是否为数字，\n",
    "\n",
    "\n",
    "\n",
    "e.g. :\n",
    "---\n",
    "\n",
    "1. 输入：“$3+5 * 8 -6$”   输出：37\n",
    "\n",
    "2. 输入：“$34+13*9 + 44-12/3$”  输出：191"
   ]
  },
  {
   "cell_type": "markdown",
   "metadata": {},
   "source": [
    "idea："
   ]
  },
  {
   "cell_type": "code",
   "execution_count": 3,
   "metadata": {},
   "outputs": [
    {
     "name": "stdout",
     "output_type": "stream",
     "text": [
      "37\n",
      "191\n"
     ]
    }
   ],
   "source": [
    "# add your idea here\n",
    "import operator\n",
    "def calculate(expression):\n",
    "    precedence = {'+': 1, '-': 1, '*': 2, '/': 2}\n",
    "    operations = {'+': operator.add, '-': operator.sub, '*': operator.mul, '/': operator.floordiv}\n",
    "    num_stack = [] \n",
    "    op_stack = []  \n",
    "    \n",
    "    i = 0\n",
    "    while i < len(expression):\n",
    "        if expression[i].isdigit(): \n",
    "            num = 0\n",
    "            while i < len(expression) and expression[i].isdigit():\n",
    "                num = num * 10 + int(expression[i])\n",
    "                i += 1\n",
    "            num_stack.append(num) \n",
    "            continue \n",
    "\n",
    "        elif expression[i] in precedence: \n",
    "            while (op_stack and precedence[op_stack[-1]] >= precedence[expression[i]]):\n",
    "                num2 = num_stack.pop()\n",
    "                num1 = num_stack.pop()\n",
    "                op = op_stack.pop()\n",
    "                num_stack.append(operations[op](num1, num2))\n",
    "            op_stack.append(expression[i]) \n",
    "        i += 1\n",
    "\n",
    "    while op_stack:\n",
    "        num2 = num_stack.pop()\n",
    "        num1 = num_stack.pop()\n",
    "        op = op_stack.pop()\n",
    "        num_stack.append(operations[op](num1, num2))\n",
    "\n",
    "    return num_stack[0]\n",
    "\n",
    "expression = \"3+5*8-6\"\n",
    "expression2 = \"34+13*9+44-12/3\"\n",
    "result = calculate(expression)\n",
    "result2 = calculate(expression2)\n",
    "print(result)\n",
    "print(result2)\n",
    "\n",
    "# your algorithm time complexity is: O(n)\n",
    "# 算法思路\n",
    "# 利用两个栈（操作数栈 num_stack 和运算符栈 op_stack）来计算 中缀表达式：\n",
    "# 1.遍历表达式：遇到数字直接压入 num_stack。\n",
    "# 2.遇到运算符：\n",
    "#   如果 op_stack 为空，或当前运算符优先级高于栈顶运算符，则入栈。\n",
    "#   否则，弹出 op_stack 的运算符，并从 num_stack 取出两个数进行计算，将计算结果压入 num_stack，然后继续比较。\n",
    "#   遍历结束后，若 op_stack 仍有运算符，依次弹出进行计算，直到 op_stack 为空。\n",
    "# 3.返回 num_stack 栈顶元素 作为最终计算结果。"
   ]
  },
  {
   "cell_type": "markdown",
   "metadata": {},
   "source": [
    "## 问题 4:  \n",
    "\n",
    "> 星球碰撞问题：现有n个星球，在同一条直线上运行，如数组A所示，元素的绝对值表示星球的质量，负数表示星球自右向左运动，正数表示星球自左向右运动，当两个星球相撞的时候，质量小的会消失，大的保持不变，**质量相同的两个星球碰撞后自右向左运动的星球消失，自左向右的星球保持不变**，假设所有星球的速度大小相同。\n",
    ">\n",
    "> $ A=[23,-8, 9, -3, -7, 9, -23, 22] $\n",
    "\n",
    "请设计一个算法模拟星球的运行情况，输出最终的星球存续情况（输出一个数组），分析算法设计思路，计算时间复杂度，并基于python编程实现。\n",
    "\n",
    "e.g.\n",
    "---\n",
    "1.  输入： A=[-3,-6,2,8, 5,-8,9,-2,1]， 输出：[-3, -6, 2, 8, 9, 1]\n",
    "\n",
    "2. 输入：A=[23,-8, 9, -3, -7, 9, -23, 22], 输出：[23, 22]\n",
    "\n"
   ]
  },
  {
   "cell_type": "code",
   "execution_count": 15,
   "metadata": {},
   "outputs": [
    {
     "name": "stdout",
     "output_type": "stream",
     "text": [
      "[-3, -6, 2, 8, 9, 1]\n",
      "[23, 22]\n"
     ]
    }
   ],
   "source": [
    "# add your idea here\n",
    "def planet_collision(A):\n",
    "    stack = []\n",
    "    \n",
    "    for curr in A:\n",
    "        if curr > 0:\n",
    "            stack.append(curr)\n",
    "        else:\n",
    "            while stack and stack[-1] > 0:\n",
    "                top = stack[-1]\n",
    "                if abs(top) > abs(curr):\n",
    "                    break\n",
    "                elif abs(top) < abs(curr):\n",
    "                    stack.pop()\n",
    "                    continue\n",
    "                else:\n",
    "                    break\n",
    "            else:\n",
    "                stack.append(curr)\n",
    "                \n",
    "    return stack\n",
    "\n",
    "A1 = [-3,-6,2,8,5,-8,9,-2,1] \n",
    "A2 = [23,-8,9,-3,-7,9,-23,22]  \n",
    "print(planet_collision(A1))  \n",
    "print(planet_collision(A2))  \n",
    "\n",
    "# your algorithm time complexity is:O(n)\n",
    "# 算法思路\n",
    "# 用栈模拟星球的运动和碰撞过程：\n",
    "# 1.遍历数组 A：\n",
    "#   若当前星球 向右运动（正数），直接入栈。\n",
    "#   若当前星球 向左运动（负数），则需要与栈顶元素（即最近的向右运动的星球）比较质量：\n",
    "#       如果栈顶星球的质量 更大，当前星球被摧毁，不入栈。\n",
    "#       如果栈顶星球的质量 更小，栈顶星球被摧毁，继续与栈内下一个星球比较。\n",
    "#       如果质量相同，当前星球摧毁栈顶星球，然后自身也消失。\n",
    "# 2.遍历结束后，栈中剩余的星球即为最终存续的星球状态。"
   ]
  },
  {
   "cell_type": "markdown",
   "metadata": {},
   "source": [
    "## 问题 5 \n",
    "\n",
    "> 给定一个无序数组nums=[9,-3,-10,0,9,7,33]，请建立一个二叉搜索树存储数组中的所有元素，之后删除二叉树中的元素“0”，再使用中序遍历输出二叉搜索树中的所有元素。\n",
    "\n",
    "使用python编程完成上述任务，并计算时间复杂度\n"
   ]
  },
  {
   "cell_type": "code",
   "execution_count": 16,
   "metadata": {},
   "outputs": [
    {
     "name": "stdout",
     "output_type": "stream",
     "text": [
      "中序遍历结果: [-10, -3, 7, 9, 9, 33]\n"
     ]
    }
   ],
   "source": [
    "# add your idea here\n",
    "class TreeNode:\n",
    "    def __init__(self, val):\n",
    "        self.val = val\n",
    "        self.left = None\n",
    "        self.right = None\n",
    "\n",
    "class BST:\n",
    "    def __init__(self):\n",
    "        self.root = None\n",
    "\n",
    "    def insert(self, val):\n",
    "        def _insert(node, val):\n",
    "            if not node:\n",
    "                return TreeNode(val)\n",
    "            if val < node.val:\n",
    "                node.left = _insert(node.left, val)\n",
    "            else:\n",
    "                node.right = _insert(node.right, val)\n",
    "            return node\n",
    "        self.root = _insert(self.root, val)\n",
    "\n",
    "    def delete(self, val):\n",
    "        def _delete(node, val):\n",
    "            if not node:\n",
    "                return None\n",
    "            if val < node.val:\n",
    "                node.left = _delete(node.left, val)\n",
    "            elif val > node.val:\n",
    "                node.right = _delete(node.right, val)\n",
    "            else:\n",
    "                if not node.left:\n",
    "                    return node.right\n",
    "                if not node.right:\n",
    "                    return node.left\n",
    "                # 找右子树的最小节点\n",
    "                temp = node.right\n",
    "                while temp.left:\n",
    "                    temp = temp.left\n",
    "                node.val = temp.val\n",
    "                node.right = _delete(node.right, temp.val)\n",
    "            return node\n",
    "        self.root = _delete(self.root, val)\n",
    "\n",
    "    def inorder(self):\n",
    "        result = []\n",
    "        def _inorder(node):\n",
    "            if node:\n",
    "                _inorder(node.left)\n",
    "                result.append(node.val)\n",
    "                _inorder(node.right)\n",
    "        _inorder(self.root)\n",
    "        return result\n",
    "\n",
    "nums = [9, -3, -10, 0, 9, 7, 33]\n",
    "bst = BST()\n",
    "for num in nums:\n",
    "    bst.insert(num)\n",
    "bst.delete(0)\n",
    "print(\"中序遍历结果:\", bst.inorder())\n",
    "\n",
    "# your algorithm time complexity is:O(n log n)"
   ]
  },
  {
   "cell_type": "markdown",
   "metadata": {},
   "source": [
    "## 问题 6  \n",
    "\n",
    "> 给定一个包含大写字母和小写字母的字符串 s ，返回 字符串包含的 **最长的回文子串的长度** 。请注意 区分大小写 。比如 \"Aa\" 不能当做一个回文字符串。\n",
    ">\n",
    "\n",
    "请设计一个算法解决上述问题，只需要输出最长回文子串的长度，分析算法设计思路，计算时间复杂度，并基于python编程实现\n",
    "\n",
    "e.g. 输入： s=\"adccaccd\"，  输出：7。 最长回文子串为：\"dccaccd\", 长度为7\n"
   ]
  },
  {
   "cell_type": "markdown",
   "metadata": {},
   "source": [
    "idea："
   ]
  },
  {
   "cell_type": "code",
   "execution_count": 17,
   "metadata": {},
   "outputs": [
    {
     "name": "stdout",
     "output_type": "stream",
     "text": [
      "7\n"
     ]
    }
   ],
   "source": [
    "# add your idea here\n",
    "def longest_palindrome_length(s: str) -> int:\n",
    "    def expand_around_center(left: int, right: int) -> int:\n",
    "        while left >= 0 and right < len(s) and s[left] == s[right]:\n",
    "            left -= 1\n",
    "            right += 1\n",
    "        return right - left - 1  \n",
    "\n",
    "    max_len = 0\n",
    "    for i in range(len(s)):\n",
    "        len1 = expand_around_center(i, i)     \n",
    "        len2 = expand_around_center(i, i + 1) \n",
    "        max_len = max(max_len, len1, len2)\n",
    "\n",
    "    return max_len\n",
    "\n",
    "\n",
    "s = \"adccaccd\"\n",
    "print(longest_palindrome_length(s))  \n",
    "\n",
    "# your algorithm time complexity is:O(n²)\n",
    "# 算法思路\n",
    "# 回文的中心可以是单个字符，或两个字符之间。\n",
    "# 从每个可能的中心开始，向两边扩展，直到不是回文为止。\n",
    "# 每次更新最大长度。"
   ]
  },
  {
   "cell_type": "markdown",
   "metadata": {},
   "source": [
    "## 问题 7 \n",
    "\n",
    "> 沿一条长河流分散着n座房子。你可以把这条河想象成一条轴，房子是由它们在这条轴上的坐标按顺序排列的。你的公司想在河边的特定地点设置手机基站，这样每户人家都在距离基站4公里的范围内。输入可以看作为一个升序数组，数组元素的取值为大于等于0的正整数，你需要输出最小基站的数目，基站的位置。\n",
    "\n",
    "1. 给出一个时间复杂度为$O(n$) 的算法，使所使用的基站数量最小化，分析算法设计思路，使用python编程实现\n",
    "2. 证明1.中算法产生了最优解决方案。\n",
    "\n",
    "e.g. \n",
    "\n",
    "输入： [1, 5, 12, 33, 34,35]  输出：基站数目为3， 基站位置为[1，12，33]\n",
    "\n"
   ]
  },
  {
   "cell_type": "markdown",
   "metadata": {},
   "source": [
    "idea："
   ]
  },
  {
   "cell_type": "code",
   "execution_count": 20,
   "metadata": {},
   "outputs": [
    {
     "name": "stdout",
     "output_type": "stream",
     "text": [
      "Minimum number of stations: 3\n",
      "Positions of stations: [5, 16, 37]\n"
     ]
    }
   ],
   "source": [
    "# add your idea here\n",
    "# 基站不一定建在房子所在位置\n",
    "def find_min_stations(houses):\n",
    "    n = len(houses)\n",
    "    if n == 0:\n",
    "        return 0, []\n",
    "    \n",
    "    stations = []\n",
    "    i = 0\n",
    "    while i < n:\n",
    "        # Place the station at houses[i] + 4 to cover houses[i] to houses[i] + 8\n",
    "        station_pos = houses[i] + 4\n",
    "        stations.append(station_pos)\n",
    "        \n",
    "        # Skip all houses covered by this station (<= station_pos + 4)\n",
    "        while i < n and houses[i] <= station_pos + 4:\n",
    "            i += 1\n",
    "    \n",
    "    return len(stations), stations\n",
    "\n",
    "# Example usage\n",
    "houses = [1, 5, 12, 33, 34, 35]\n",
    "min_stations, stations_pos = find_min_stations(houses)\n",
    "print(\"Minimum number of stations:\", min_stations)\n",
    "print(\"Positions of stations:\", stations_pos)\n",
    "\n",
    "# your algorithm time complexity is:O(n)\n",
    "# 设计思路:\n",
    "# 初始化：从第一个未被覆盖的房子开始。\n",
    "# 放置基站：为了覆盖当前房子，基站的最远可放置位置是该房子坐标 + 4公里（因为基站可以覆盖左边4公里和右边4公里，所以放在右边最远可以覆盖更多后续房子）。\n",
    "# 跳过覆盖的房子：所有坐标 ≤ (基站位置 + 4) 的房子都可以被该基站覆盖，跳过这些房子。\n",
    "# 重复：对下一个未被覆盖的房子重复上述过程，直到所有房子都被覆盖。\n",
    "\n",
    "# "
   ]
  },
  {
   "cell_type": "markdown",
   "metadata": {},
   "source": [
    "## 问题 8  \n",
    "\n",
    "> 给定由n个正整数组成的一个集合$S = \\{a_1, a_2，···，a_n\\}$和一个正整数W，设计一个算法确定是否存在S的一个子集 $K \\subseteq S$, 使K中所有数之和为 $W$, 如果存在返回“True”，否则返回“False”\n",
    "\n",
    "请设计一个时间复杂度为$O(nW)$动态规划算法，解决上述问题，分析算法的设计思路，并且基于python编程实现（不需要输出子集）。\n",
    "\n",
    "e.g. \n",
    "\n",
    "输入：S = {1,4,7,3,5}， W = 11，输出：True。   因为K可以是{4,7}。\n",
    "\n"
   ]
  },
  {
   "cell_type": "markdown",
   "metadata": {},
   "source": [
    "idea："
   ]
  },
  {
   "cell_type": "code",
   "execution_count": 22,
   "metadata": {},
   "outputs": [
    {
     "name": "stdout",
     "output_type": "stream",
     "text": [
      "True\n"
     ]
    }
   ],
   "source": [
    "# add your idea here\n",
    "def subset_sum(S, W):\n",
    "    n = len(S)\n",
    "    dp = [[False] * (W + 1) for _ in range(n + 1)]\n",
    "    dp[0][0] = True  \n",
    "    \n",
    "    for i in range(1, n + 1):\n",
    "        for w in range(W + 1):\n",
    "            dp[i][w] = dp[i-1][w]\n",
    "            if w >= S[i-1]:\n",
    "                dp[i][w] = dp[i][w] or dp[i-1][w - S[i-1]]\n",
    "\n",
    "    return dp[n][W]\n",
    "\n",
    "S = [1, 4, 7, 3, 5]\n",
    "W = 11\n",
    "result = subset_sum(S, W)\n",
    "print(result)  \n",
    "\n",
    "# your algorithm time complexity is: O(nW)\n",
    "\n",
    "# 设计思路\n",
    "# 1.状态定义：\n",
    "# 用一个布尔类型的二维数组 dp 来表示问题的解。dp[i][w] 表示考虑前 i 个数是否能组成和为 w 的子集。\n",
    "# dp[i][w] = True 表示可以从前 i 个数中选择一些数，使它们的和为 w。\n",
    "# 2.初始状态：\n",
    "# dp[0][0] = True，表示没有任何元素时，和为 0 是可能的。\n",
    "# dp[0][w] = False 对于所有 w > 0，因为没有元素时无法构成非零的和。\n",
    "# 3.状态转移：\n",
    "# 对于每个元素 a[i]，我们可以选择：\n",
    "# 不选它，即 dp[i][w] = dp[i-1][w]（继承前一个状态）。\n",
    "# 选它，即 dp[i][w] = dp[i-1][w-a[i]]（如果 w-a[i] 可以由前 i-1 个元素组成）。\n",
    "# 4.目标：\n",
    "# 需要判断 dp[n][W] 是否为 True，如果是，表示可以通过选择一些元素的和为 W。"
   ]
  },
  {
   "cell_type": "markdown",
   "metadata": {},
   "source": [
    "\n",
    "\n",
    "## 问题 9 \n",
    "\n",
    "> 给定一个n个物品的集合。物体的重量为$w_1, w_2，…、w_n$，物品的价值分别是$v_1、v_2、…v_n$。给你**两个**重量为 $c$ 的背包。如果你带了一个东西，它可以放在一个背包里，也可以放在另一个背包里，但不能同时放在两个背包里。所有权重和价值都是正整数。\n",
    "\n",
    "1. 设计一个时间复杂度为 $O(nc^2)$ 的动态规划算法，确定可以放入两个背包的物体的最大价值。分析算法设计思路，并基于python编程实现\n",
    "2. \\* 修改1中的算法，输出每个背包的内容（物品对应下标）。\n",
    "\n",
    "e.g.: \n",
    "\n",
    "输入 V=[1,3,2,5,8,7], W=[1,3,2,5,8,7], c=7, 输出：最大价值=14，背包装的物品为：[6] [4，3] （同一个背包中物品装入顺序对结果无影响）  \n"
   ]
  },
  {
   "cell_type": "markdown",
   "metadata": {},
   "source": [
    "idea："
   ]
  },
  {
   "cell_type": "code",
   "execution_count": 23,
   "metadata": {},
   "outputs": [
    {
     "name": "stdout",
     "output_type": "stream",
     "text": [
      "最大价值 = 14\n",
      "背包1装入物品编号 = [5]\n",
      "背包2装入物品编号 = [2, 3]\n"
     ]
    }
   ],
   "source": [
    "# add your idea here\n",
    "def two_knapsacks(V, W, c):\n",
    "    n = len(V)\n",
    "    dp = [[[0] * (c + 1) for _ in range(c + 1)] for _ in range(n + 1)]\n",
    "    \n",
    "    for i in range(1, n + 1):\n",
    "        for j in range(c + 1):\n",
    "            for k in range(c + 1):\n",
    "                dp[i][j][k] = dp[i - 1][j][k]\n",
    "                if j >= W[i - 1]:\n",
    "                    dp[i][j][k] = max(dp[i][j][k], dp[i - 1][j - W[i - 1]][k] + V[i - 1])\n",
    "                if k >= W[i - 1]:\n",
    "                    dp[i][j][k] = max(dp[i][j][k], dp[i - 1][j][k - W[i - 1]] + V[i - 1])\n",
    "\n",
    "    res = dp[n][c][c]\n",
    "    b1, b2 = [], []\n",
    "    j, k = c, c\n",
    "    for i in range(n, 0, -1):\n",
    "        if dp[i][j][k] == dp[i - 1][j][k]:\n",
    "            continue\n",
    "        elif j >= W[i - 1] and dp[i][j][k] == dp[i - 1][j - W[i - 1]][k] + V[i - 1]:\n",
    "            b1.append(i - 1)\n",
    "            j -= W[i - 1]\n",
    "        else:\n",
    "            b2.append(i - 1)\n",
    "            k -= W[i - 1]\n",
    "    \n",
    "    return res, b1[::-1], b2[::-1]\n",
    "\n",
    "V = [1, 3, 2, 5, 8, 7]\n",
    "W = [1, 3, 2, 5, 8, 7]\n",
    "c = 7\n",
    "max_val, bag1, bag2 = two_knapsacks(V, W, c)\n",
    "print(\"最大价值 =\", max_val)\n",
    "print(\"背包1装入物品编号 =\", bag1)\n",
    "print(\"背包2装入物品编号 =\", bag2)  \n",
    "\n",
    "# your algorithm time complexity is: O(nc^2)\n",
    "# 设计思路\n",
    "# 状态转移：\n",
    "# 对于第 i 个物品（从 1 到 n）：\n",
    "# 不放这个物品：dp[i][j][k] = dp[i-1][j][k]\n",
    "# 放进第一个背包：若 j ≥ W[i-1]，则 dp[i][j][k] = max(dp[i][j][k], dp[i-1][j-W[i-1]][k] + V[i-1])\n",
    "# 放进第二个背包：若 k ≥ W[i-1]，则 dp[i][j][k] = max(dp[i][j][k], dp[i-1][j][k-W[i-1]] + V[i-1])"
   ]
  },
  {
   "cell_type": "markdown",
   "metadata": {},
   "source": [
    "## 问题 10 \n",
    "\n",
    "> 给定两个字符串 $x[1..n]$ 和 $y[1..m]$，我们想通过以下操作将 $x$ 变换为 $y$ :\n",
    ">\n",
    "> **插入**：在 $x$ 中插入一个字符(在任何位置)；**删除**：从 $x$ 中删除一个字符(在任何位置)； **替换**：用另一个字符替换 $x$ 中的一个字符。\n",
    ">\n",
    "> 例如: $x = abcd$, $y = bcfe$，\n",
    ">\n",
    "> - 将 $x$ 转换为 $y$ 的一种可能方法是：1. 删除 $x$ 开头的 $a$, $x$变成 $bcd$； 2. 将 $x$ 中的字符 $d$ 替换为字符 $f$。$x$ 变成 $bcf$； 3. 在 $x$ 的末尾插入字符 $e$。$x$ 变成 $bcfe$。\n",
    ">\n",
    "> - 另一种可能的方法：1. 删除 $x$ 开头的 $a$,  $x$ 变成 $bcd$； 2. 在 $x$ 中字符 $d$ 之前插入字符 $f$。$x$ 变成 $bcfd$。3. 将 $x$ 中的字符 $d$ 替换为字符 $e$。$x$ 变成 $bcfe$。\n",
    "\n",
    "设计一个时间复杂度为 $O(mn)$ 的算法，返回将 $x$ 转换为 $y$ 所需的最少操作次数。分析算法设计思路，并基于python编程实现。\n"
   ]
  },
  {
   "cell_type": "markdown",
   "metadata": {},
   "source": [
    "idea："
   ]
  },
  {
   "cell_type": "code",
   "execution_count": 24,
   "metadata": {},
   "outputs": [
    {
     "name": "stdout",
     "output_type": "stream",
     "text": [
      "最少操作次数： 3\n"
     ]
    }
   ],
   "source": [
    "# add your idea here\n",
    "def edit_distance(x: str, y: str) -> int:\n",
    "    n, m = len(x), len(y)\n",
    "    dp = [[0] * (m + 1) for _ in range(n + 1)]\n",
    "    for i in range(n + 1):\n",
    "        dp[i][0] = i\n",
    "    for j in range(m + 1):\n",
    "        dp[0][j] = j\n",
    "    for i in range(1, n + 1):\n",
    "        for j in range(1, m + 1):\n",
    "            if x[i - 1] == y[j - 1]:\n",
    "                dp[i][j] = dp[i - 1][j - 1]\n",
    "            else:\n",
    "                dp[i][j] = min(\n",
    "                    dp[i - 1][j] + 1,    # 删除\n",
    "                    dp[i][j - 1] + 1,    # 插入\n",
    "                    dp[i - 1][j - 1] + 1 # 替换\n",
    "                )\n",
    "\n",
    "    return dp[n][m]\n",
    "\n",
    "x = \"abcd\"\n",
    "y = \"bcfe\"\n",
    "print(\"最少操作次数：\", edit_distance(x, y)) \n",
    "# your algorithm time complexity is: O(mn)\n",
    "# 设计思路\n",
    "# 对于每个 i 和 j，有以下情况：\n",
    "# 1.若 x[i-1] == y[j-1]，则不需要操作：\n",
    "# dp[i][j] = dp[i-1][j-1]\n",
    "# 2.若 x[i-1] ≠ y[j-1]，则考虑三种操作：\n",
    "# 插入：dp[i][j-1] + 1\n",
    "# 删除：dp[i-1][j] + 1\n",
    "# 替换：dp[i-1][j-1] + 1"
   ]
  },
  {
   "cell_type": "code",
   "execution_count": null,
   "metadata": {},
   "outputs": [],
   "source": []
  }
 ],
 "metadata": {
  "kernelspec": {
   "display_name": "Python 3 (ipykernel)",
   "language": "python",
   "name": "python3"
  },
  "language_info": {
   "codemirror_mode": {
    "name": "ipython",
    "version": 3
   },
   "file_extension": ".py",
   "mimetype": "text/x-python",
   "name": "python",
   "nbconvert_exporter": "python",
   "pygments_lexer": "ipython3",
   "version": "3.11.7"
  }
 },
 "nbformat": 4,
 "nbformat_minor": 4
}
