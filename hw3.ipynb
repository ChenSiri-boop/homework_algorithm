{
 "cells": [
  {
   "cell_type": "markdown",
   "metadata": {},
   "source": [
    "## algorithm design and anlysis-2025 spring  homework 3\n",
    "**Deadline**：2025.5.14\n",
    "\n",
    "**name**:陈欣蕊\n",
    "\n",
    "\n",
    "note：\n",
    "---\n",
    "1. 带有\\*的题目，申请免上课的同学，必须完成，其他同学选作；\n",
    "2. 请独立完成，如求助了他人或者大模型，请著明，并且不可省略算法分析部分；\n",
    "4. 如若作答有雷同，全部取消成绩；\n",
    "3. 需要书面作答的题目，可以通过引用图片的形式添加，但是注意上传项目时包含所引用的图片的源文件；\n",
    "4. $log_n$ 默认表示$log_2{n}$;"
   ]
  },
  {
   "cell_type": "markdown",
   "metadata": {},
   "source": [
    "## 问题 1  \n",
    "\n",
    "请证明基于比较的排序算法计算复杂度下界为$\\Omega(nlogn)$"
   ]
  },
  {
   "cell_type": "markdown",
   "metadata": {},
   "source": [
    "you can refer a handwritten picture, pleas upload the picture in /fig/xxx.png\n",
    "answer："
   ]
  },
  {
   "cell_type": "markdown",
   "metadata": {},
   "source": [
    "## 问题 2 \n",
    "\n",
    "构建二叉搜索树\n",
    "\n",
    "> 1. 给定一个数组 [48, 33, 49, 47, 42, 46, 32], 构建一个二叉搜索树存储这些数据，请**绘制**所构建的**二叉搜索树**（标明结点的值）。\n",
    "> 2. 从第1问的二叉搜索树中删除33，请**绘制**删除33后的**二叉搜索树**（标明结点的值）\n",
    "\n",
    "- 推荐使用graphviz包绘制树的结构"
   ]
  },
  {
   "cell_type": "markdown",
   "metadata": {},
   "source": [
    "you can refer a handwritten picture, pleas upload the picture in /fig/xxx.png\n",
    "answer："
   ]
  },
  {
   "cell_type": "markdown",
   "metadata": {},
   "source": [
    "## 问题 3 \n",
    "\n",
    "> 下面是九门课程的开始和结束时间:\n",
    ">\n",
    "> [(9:00,12:30), (11:00,14:00), (13:00, 14:30), (9:00,10:30),(13:00, 14:30),(14:00,16:30), (15:00,16:30), (15:00,16:30), (9:00,10:30)]\n",
    ">\n",
    "> 请使用贪婪算法为这九门课分配教室，要求在同一天内安排这些课，并且每个教室同一时间只能安排一门课。\n",
    "\n",
    "**请问最少需要几间教室，罗列出每个教室安排的课程**"
   ]
  },
  {
   "cell_type": "markdown",
   "metadata": {},
   "source": [
    "idea：\n",
    "1. 将所有课程按开始时间排序；\r\n",
    "2. 使用 **最小堆（优先队列）** 记录每个教室当前课程的结束时间；\r\n",
    "3. 遍历课程：\r\n",
    "   - 如果当前课程的开始时间 ≥ 最早结束时间的课程（堆顶），就复用那个教室；\r\n",
    "   - 否则需要新开一间教室；\r\n",
    "4. 每次放入或替换教室时，同时记录每个教室的课程。室的课程。"
   ]
  },
  {
   "cell_type": "code",
   "execution_count": 2,
   "metadata": {
    "vscode": {
     "languageId": "plaintext"
    }
   },
   "outputs": [
    {
     "name": "stdout",
     "output_type": "stream",
     "text": [
      "最少需要教室数: 3\n",
      "教室 1:\n",
      "  09:00 - 10:30\n",
      "  11:00 - 14:00\n",
      "  14:00 - 16:30\n",
      "教室 2:\n",
      "  09:00 - 10:30\n",
      "  13:00 - 14:30\n",
      "  15:00 - 16:30\n",
      "教室 3:\n",
      "  09:00 - 12:30\n",
      "  13:00 - 14:30\n",
      "  15:00 - 16:30\n"
     ]
    }
   ],
   "source": [
    "# code：\n",
    "import heapq\n",
    "from collections import defaultdict\n",
    "raw_intervals = [(\"9:00\",\"12:30\"), (\"11:00\",\"14:00\"), (\"13:00\", \"14:30\"),\n",
    "                 (\"9:00\",\"10:30\"), (\"13:00\", \"14:30\"), (\"14:00\",\"16:30\"),\n",
    "                 (\"15:00\",\"16:30\"), (\"15:00\",\"16:30\"), (\"9:00\",\"10:30\")]\n",
    "\n",
    "# 转换时间为分钟\n",
    "def to_minutes(t):\n",
    "    h, m = map(int, t.split(\":\"))\n",
    "    return h * 60 + m\n",
    "\n",
    "intervals = [(to_minutes(start), to_minutes(end)) for start, end in raw_intervals]\n",
    "\n",
    "# 按开始时间排序\n",
    "intervals.sort()\n",
    "\n",
    "# 最小堆记录教室状态：(结束时间, 教室编号)\n",
    "heap = []\n",
    "# 每个教室安排的课程列表\n",
    "room_schedule = defaultdict(list)\n",
    "room_id_counter = 0  # 教室编号从0开始\n",
    "\n",
    "for start, end in intervals:\n",
    "    if heap and heap[0][0] <= start:\n",
    "        # 可以复用教室\n",
    "        finish_time, room_id = heapq.heappop(heap)\n",
    "    else:\n",
    "        # 新建教室\n",
    "        room_id = room_id_counter\n",
    "        room_id_counter += 1\n",
    "    # 加入到教室课程表\n",
    "    room_schedule[room_id].append((start, end))\n",
    "    # 更新该教室的结束时间\n",
    "    heapq.heappush(heap, (end, room_id))\n",
    "\n",
    "# 打印结果\n",
    "print(f\"最少需要教室数: {room_id_counter}\")\n",
    "for room_id in sorted(room_schedule):\n",
    "    print(f\"教室 {room_id + 1}:\")\n",
    "    for start, end in room_schedule[room_id]:\n",
    "        print(f\"  {start//60:02}:{start%60:02} - {end//60:02}:{end%60:02}\")"
   ]
  },
  {
   "cell_type": "markdown",
   "metadata": {},
   "source": [
    "## 问题 4 \n",
    "\n",
    "> 爬楼梯问题：假设爬楼梯时你每次只能爬一阶或者爬两阶，问爬上n阶的楼梯，你一共有多少种方法\n",
    "\n",
    "请设计算法完成该问题，分析算法设计思路，计算时间复杂度，并基于python编程实现"
   ]
  },
  {
   "cell_type": "markdown",
   "metadata": {},
   "source": [
    "idea："
   ]
  },
  {
   "cell_type": "code",
   "execution_count": 4,
   "metadata": {},
   "outputs": [
    {
     "name": "stdout",
     "output_type": "stream",
     "text": [
      "8\n"
     ]
    }
   ],
   "source": [
    "# add your code here\n",
    "def climb_stairs(n):\n",
    "    if n == 0 or n == 1:\n",
    "        return 1\n",
    "\n",
    "    dp = [0] * (n + 1)\n",
    "    dp[0], dp[1] = 1, 1  # 初始条件\n",
    "\n",
    "    for i in range(2, n + 1):\n",
    "        dp[i] = dp[i - 1] + dp[i - 2]\n",
    "\n",
    "    return dp[n]\n",
    "\n",
    "print(climb_stairs(5))"
   ]
  },
  {
   "cell_type": "markdown",
   "metadata": {},
   "source": [
    "your algorithm time complexity is: \n",
    "O(n)"
   ]
  },
  {
   "cell_type": "markdown",
   "metadata": {},
   "source": [
    "## 问题 5 \n",
    "\n",
    "> 0-1背包问题：现在有4块大理石，每个大理石对应的重量和价值使用一个元组表示, 即（重量，价值），4块大理石的重量和价值为：[(5,10), (4,40), (6,30), (3, 50)], 假设你有一辆最大承重为9的小推车，请问使用这个小推车装大理石的最大价值为多少\n",
    "\n",
    "请设计一个算法解决该问题，分析算法设计思路，计算时间复杂度，并基于python编程实现"
   ]
  },
  {
   "cell_type": "markdown",
   "metadata": {},
   "source": [
    "idea：\n",
    "### 算法设计思路（动态规划）\r\n",
    "\r\n",
    "- 定义 $dp[i][w]$ 表示前 $i$ 件物品中，在容量为 $w$ 的背包下，所能获得的最大价值。\r\n",
    "\r\n",
    "- 状态转移公式：\r\n",
    "\r\n",
    "    - 对于第 $i$ 件物品（从 1 开始计数）：\r\n",
    "        - 如果不选：$dp[i][w] = dp[i-1][w]$\r\n",
    "        - 如果选（当前容量够用）：$dp[i][w] = dp[i-1][w - weight[i]] + value[i]$\r\n",
    "\r\n",
    "- 所以最终转移方程为：\r\n",
    "\r\n",
    "$$\r\n",
    "dp[i][w] = \\max\\left(dp[i-1][w],\\ dp[i-1][w - weight[i]] + value[i]\\right)\r\n",
    "$$"
   ]
  },
  {
   "cell_type": "code",
   "execution_count": 7,
   "metadata": {},
   "outputs": [
    {
     "name": "stdout",
     "output_type": "stream",
     "text": [
      "最大价值: 90\n"
     ]
    }
   ],
   "source": [
    "# add your code here\n",
    "def knapsack_01(items, max_weight):\n",
    "    n = len(items)\n",
    "    dp = [[0] * (max_weight + 1) for _ in range(n + 1)]\n",
    "\n",
    "    for i in range(1, n + 1):\n",
    "        weight, value = items[i - 1]\n",
    "        for w in range(max_weight + 1):\n",
    "            if weight <= w:\n",
    "                dp[i][w] = max(dp[i-1][w], dp[i-1][w - weight] + value)\n",
    "            else:\n",
    "                dp[i][w] = dp[i-1][w]\n",
    "\n",
    "    return dp[n][max_weight]\n",
    "\n",
    "# 测试\n",
    "items = [(5,10), (4,40), (6,30), (3, 50)]\n",
    "max_weight = 9\n",
    "print(\"最大价值:\", knapsack_01(items, max_weight))\n"
   ]
  },
  {
   "cell_type": "markdown",
   "metadata": {},
   "source": [
    "your algorithm time complexity is:O(n * W)，即 O(4 * 9) = 36"
   ]
  },
  {
   "cell_type": "markdown",
   "metadata": {},
   "source": [
    "## 问题 6 \n",
    "给定 `n` 个非负整数表示每个宽度为 `1` 的柱子的高度图，计算按此排列的柱子，下雨之后能接多少雨水。\n",
    "\n",
    "\n",
    "\n",
    "<div style=\"text-align:center;width:800px;\"> <img alt=\"\" src=\"./fig/hw3q6.png\"> </div>\n",
    "\n",
    "请分析算法设计思路，计算时间复杂度，并基于python编程实现"
   ]
  },
  {
   "cell_type": "markdown",
   "metadata": {},
   "source": [
    "idea：\n",
    "### 栈解法的核心思路\r\n",
    "\r\n",
    "- 使用 **栈** 来存储柱子的下标，栈中的柱子高度始终保持**递减顺序**。\r\n",
    "- 当遇到一个比栈顶柱子更高的柱子时，表示可以计算水的积累：\r\n",
    "    - 计算栈顶柱子与当前柱子之间形成的 **水坑**。\r\n",
    "    - 弹出栈顶柱子，继续向栈中填入新的柱子，直到栈顶柱子的高度大于当前柱子的高度。\r\n",
    "- 继续遍历柱子，直到所有柱子都被处理完。"
   ]
  },
  {
   "cell_type": "code",
   "execution_count": 8,
   "metadata": {},
   "outputs": [
    {
     "name": "stdout",
     "output_type": "stream",
     "text": [
      "接雨水总量： 6\n"
     ]
    }
   ],
   "source": [
    "# add your code here\n",
    "\n",
    "def trap_rain_water_stack(height):\n",
    "    stack = []\n",
    "    total_water = 0\n",
    "    n = len(height)\n",
    "\n",
    "    for i in range(n):\n",
    "        # 当当前柱子比栈顶柱子高时，开始计算接水\n",
    "        while stack and height[i] > height[stack[-1]]:\n",
    "            top = stack.pop()  # 弹出栈顶柱子\n",
    "            if not stack:\n",
    "                break  # 如果栈为空，跳出循环\n",
    "            # 计算水的宽度\n",
    "            distance = i - stack[-1] - 1\n",
    "            # 计算水的高度\n",
    "            bounded_height = min(height[i], height[stack[-1]]) - height[top]\n",
    "            total_water += distance * bounded_height\n",
    "\n",
    "        stack.append(i)  # 将当前柱子的下标入栈\n",
    "\n",
    "    return total_water\n",
    "\n",
    "height = [0,1,0,2,1,0,1,3,2,1,2,1]\n",
    "print(\"接雨水总量：\", trap_rain_water_stack(height))\n"
   ]
  },
  {
   "cell_type": "markdown",
   "metadata": {},
   "source": [
    "your algorithm time complexity is:O(n)"
   ]
  },
  {
   "cell_type": "markdown",
   "metadata": {},
   "source": [
    "## 问题 7 \n",
    "\n",
    "**股票投资组合优化**： 假设你是一位投资者，想要在不同的股票中分配你的资金，以最大化你的投资回报。每只股票都有不同的预期收益率和风险。你的目标是选择一些股票，使得总投资金额不超过你的预算，并且预期收益最大化。\n",
    "\n",
    "在这个情况下，你可以将每只股票视为一个“物品”，其重量为投资金额，价值为预期收益率。然后，你可以使用分级背包问题的方法来选择部分股票，以便在预算内获得最大的预期收益。\n",
    "\n",
    "以下是一个简化的例子：\n",
    "\n",
    "假设你有以下三只股票可供选择：\n",
    "\n",
    "1. 股票 A：投资金额 5000 美元，预期收益率 10%\n",
    "2. 股票 B：投资金额 3000 美元，预期收益率 8%\n",
    "3. 股票 C：投资金额 2000 美元，预期收益率 12%\n",
    "\n",
    "请设计算法找到最优投资方案，分析算法设计思路，计算时间复杂度，并基于python编程实现"
   ]
  },
  {
   "cell_type": "markdown",
   "metadata": {},
   "source": [
    "idea：\n",
    "动态规划建模：最大化股票投资收益率\r\n",
    "\r\n",
    "- **定义状态**：  \r\n",
    "  用 `dp[i][w]` 表示前 `i` 只股票，在总投资金额为 `w` 的预算下，所能获得的最大预期收益率。\r\n",
    "\r\n",
    "- **状态转移**：  \r\n",
    "  - 如果不选第 `i` 只股票：  \r\n",
    "    `dp[i][w] = dp[i-1][w]`\r\n",
    "  - 如果选第 `i` 只股票，且当前预算足够：  \r\n",
    "    `dp[i][w] = max(dp[i-1][w], dp[i-1][w - weight[i]] +\r\n"
   ]
  },
  {
   "cell_type": "code",
   "execution_count": 10,
   "metadata": {},
   "outputs": [
    {
     "name": "stdout",
     "output_type": "stream",
     "text": [
      "最大预期收益率： 22\n"
     ]
    }
   ],
   "source": [
    "# add your code here\n",
    "def knapsack_stock_investment(stocks, budget):\n",
    "    n = len(stocks)\n",
    "    dp = [0] * (budget + 1)  # 只用一维数组优化空间\n",
    "\n",
    "    for i in range(n):\n",
    "        price, return_rate = stocks[i]\n",
    "        for w in range(budget, price - 1, -1):  # 从后往前遍历，防止重复使用股票\n",
    "            dp[w] = max(dp[w], dp[w - price] + return_rate)\n",
    "\n",
    "    return dp[budget]\n",
    "\n",
    "\n",
    "# 股票信息：每个股票由(投资金额, 预期收益率)表示\n",
    "stocks = [(5000, 10), (3000, 8), (2000, 12)]\n",
    "budget = 8000\n",
    "\n",
    "print(\"最大预期收益率：\", knapsack_stock_investment(stocks, budget))\n"
   ]
  },
  {
   "cell_type": "markdown",
   "metadata": {},
   "source": [
    "your algorithm time complexity is:O(n * W)，其中 n 是股票的数量，W 是预算总额。"
   ]
  },
  {
   "cell_type": "markdown",
   "metadata": {},
   "source": [
    "## 问题 8\n",
    "\n",
    "给你二叉搜索树的根节点 root ，该树中的恰好两个节点的值被错误地交换。请在不改变其结构的情况下，恢复这棵树 。设计算法解决该问题，分析算法设计思路，计算时间复杂度，并基于python编程实现\n",
    "\n",
    "e.g.:\n",
    "---\n",
    "1.\n",
    "\n",
    "<div style=\"text-align:center;width:200px;\"> <img alt=\"\" src=\"./fig/hw3q9-1.jpg\"> </div>\n",
    "输入：root = [1,3,null,null,2]， 输出为：[3,1,null,null,2]， \n",
    "\n",
    "解释：3 不能是 1 的左孩子，因为 3 > 1 。交换 1 和 3 使二叉搜索树有效。\n",
    "\n",
    "2.\n",
    "\n",
    " <div style=\"text-align:center;width:200px;\"> <img alt=\"\" src=\"./fig/hw3q9-1.jpg\"> </div>\n",
    "输入： root=[3,1,4,null,null,2]， 输出为：[2,1,4,null,null,3]\n",
    "\n",
    "解释：2 不能在 3 的右子树中，因为 2 < 3 。交换 2 和 3 使二叉搜索树有效。"
   ]
  },
  {
   "cell_type": "markdown",
   "metadata": {},
   "source": [
    "idea：\n",
    "### 中序遍历与恢复二叉搜索树（BST）\r\n",
    "\r\n",
    "- **中序遍历 BST 的性质**：  \r\n",
    "  对于一棵合法的二叉搜索树，进行中序遍历时，结果应该是一个**升序排列的数组**。也就是说，在中序遍历过程中，节点值是**有序的**。\r\n",
    "\r\n",
    "- **错误交换的节点**：  \r\n",
    "  由于两个节点的值交换了，我们会在中序遍历时遇到两个不符合升序排列的节点：\r\n",
    "  - 第一个节点是错误的较大的值，它**应该出现在较小节点之后**。\r\n",
    "  - 第二个节点是错误的较小的值，它**应该出现在较大的节点之后**。\r\n",
    "  \r\n",
    "  通过找到这两个节点，我们可以将它们的值交换，**恢复 BST 的正确性**。\r\n",
    "\r\n",
    "- **具体步骤**：\r\n",
    "  1. 使用中序遍历，记录每对不符合升序的相邻节点；\r\n",
    "  2. 如果我们发现两个节点不符合升序顺序，那么这两个节点的值就是**错误交换的节点**；\r\n",
    "  3. 对这两个节点交换值，恢复二叉搜索树。\r\n",
    "\n"
   ]
  },
  {
   "cell_type": "code",
   "execution_count": 11,
   "metadata": {},
   "outputs": [
    {
     "name": "stdout",
     "output_type": "stream",
     "text": [
      "中序遍历原始树: [3, 2, 1]\n",
      "恢复后的树的中序遍历: [1, 2, 3]\n"
     ]
    }
   ],
   "source": [
    "# add your code here\n",
    "class TreeNode:\n",
    "    def __init__(self, val=0, left=None, right=None):\n",
    "        self.val = val\n",
    "        self.left = left\n",
    "        self.right = right\n",
    "\n",
    "\n",
    "def recoverTree(root):\n",
    "    # 初始化\n",
    "    first = second = prev = None\n",
    "\n",
    "    def inorder(node):\n",
    "        nonlocal first, second, prev\n",
    "        if not node:\n",
    "            return\n",
    "        # 遍历左子树\n",
    "        inorder(node.left)\n",
    "\n",
    "        # 中序遍历时检查节点\n",
    "        if prev and prev.val > node.val:\n",
    "            if not first:\n",
    "                first = prev  # 第一个错误的节点\n",
    "            second = node  # 第二个错误的节点\n",
    "\n",
    "        prev = node  # 更新前一个节点\n",
    "\n",
    "        # 遍历右子树\n",
    "        inorder(node.right)\n",
    "\n",
    "    # 开始中序遍历\n",
    "    inorder(root)\n",
    "\n",
    "    # 交换错误的节点\n",
    "    if first and second:\n",
    "        first.val, second.val = second.val, first.val\n",
    "\n",
    "\n",
    "# 辅助函数：构建树\n",
    "def build_tree(values):\n",
    "    if not values:\n",
    "        return None\n",
    "    root = TreeNode(values[0])\n",
    "    queue = [root]\n",
    "    i = 1\n",
    "    while queue and i < len(values):\n",
    "        node = queue.pop(0)\n",
    "        if values[i] is not None:\n",
    "            node.left = TreeNode(values[i])\n",
    "            queue.append(node.left)\n",
    "        i += 1\n",
    "        if i < len(values) and values[i] is not None:\n",
    "            node.right = TreeNode(values[i])\n",
    "            queue.append(node.right)\n",
    "        i += 1\n",
    "    return root\n",
    "\n",
    "\n",
    "# 辅助函数：中序遍历输出树\n",
    "def inorder_traversal(root):\n",
    "    if root is None:\n",
    "        return []\n",
    "    return inorder_traversal(root.left) + [root.val] + inorder_traversal(root.right)\n",
    "\n",
    "\n",
    "# 测试\n",
    "root = build_tree([1, 3, None, None, 2])\n",
    "print(\"中序遍历原始树:\", inorder_traversal(root))\n",
    "\n",
    "recoverTree(root)\n",
    "\n",
    "print(\"恢复后的树的中序遍历:\", inorder_traversal(root))\n"
   ]
  },
  {
   "cell_type": "markdown",
   "metadata": {},
   "source": [
    "your algorithm time complexity is:O(n)"
   ]
  },
  {
   "cell_type": "markdown",
   "metadata": {},
   "source": [
    "## 问题 9  \n",
    "\n",
    "给你一个二叉树的根节点 root ，树中每个节点都存放有一个 0 到 9 之间的数字。每条从根节点到叶节点的路径都代表一个数字：\n",
    "\n",
    "> 例如，从根节点到叶节点的路径 1 -> 2 -> 3 表示数字 123 。\n",
    "\n",
    "设计一个算法计算从根节点到叶节点生成的所有数字之和 ，分析算法设计思路，计算时间复杂度，并基于python编程实现\n",
    "\n",
    "叶节点:是指没有子节点的节点。\n",
    "\n",
    "e.g.:\n",
    "---\n",
    "1.\n",
    "\n",
    " <div style=\"text-align:center;width:200px;\"> <img alt=\"figure\" src=\"./fig/hw3q10-1.jpg\"> </div>\n",
    "\n",
    " 输入：root = [1,2,3], 输出：25\n",
    "\n",
    "解释：从根到叶子节点路径 1->2 代表数字 12，1->3 代表数字 13，因此和为 12 + 13 = 25 。\n",
    "\n",
    "2.\n",
    "\n",
    " <div style=\"text-align:center;width:200px;\"> <img alt=\"figure\" src=\"./fig/hw3q10-2.jpg\"> </div>\n",
    "\n",
    " 输入：root = [4,9,0,5,1], 输出：1026\n",
    "\n",
    "解释：从根到叶子节点路径 4->9->5 代表数字 495，4->9->1 代表数字 491，4->0 代表数字 40。因此和为 495 + 491 + 40 = 1026 。"
   ]
  },
  {
   "cell_type": "markdown",
   "metadata": {},
   "source": [
    "idea：\n",
    "### 🌲 递归遍历树的算法设计（用于计算路径数字之和）\r\n",
    "\r\n",
    "- **递归遍历树**：  \r\n",
    "  我们可以使用 **深度优先搜索（DFS）** 遍历这棵树，从根节点开始，沿着树的路径向下，直到到达叶节点。\r\n",
    "\r\n",
    "- **路径值的累积**：  \r\n",
    "  对于每个节点，假设我们从根节点到当前节点的路径形成的数字为 `num`。在递归过程中，可以将当前节点的值加入 `num` 中，形成新的路径数字：\r\n",
    "  \\[\r\n",
    "  \\text{num} = \\text{num} \\times 10 + \\text{node.val}\r\n",
    "  \\]\r\n",
    "\r\n",
    "- **到达叶节点时**：  \r\n",
    "  当我们到达**叶节点**时，我们将该路径的数字累加到最终结果中。\r\n",
    "\r\n",
    "- **边界条件**：  \r\n",
    "  当节点为 `None` 时，说明路径不存在，可以直接返回，不做处理。\r\n"
   ]
  },
  {
   "cell_type": "code",
   "execution_count": 12,
   "metadata": {},
   "outputs": [
    {
     "name": "stdout",
     "output_type": "stream",
     "text": [
      "从根节点到叶节点生成的数字之和: 25\n",
      "从根节点到叶节点生成的数字之和: 1026\n"
     ]
    }
   ],
   "source": [
    "# add your code here\n",
    "class TreeNode:\n",
    "    def __init__(self, val=0, left=None, right=None):\n",
    "        self.val = val\n",
    "        self.left = left\n",
    "        self.right = right\n",
    "\n",
    "\n",
    "def sumNumbers(root: TreeNode) -> int:\n",
    "    def dfs(node, current_sum):\n",
    "        # 如果节点为空，返回 0\n",
    "        if not node:\n",
    "            return 0\n",
    "\n",
    "        # 更新当前路径值\n",
    "        current_sum = current_sum * 10 + node.val\n",
    "\n",
    "        # 如果是叶节点，返回当前路径值\n",
    "        if not node.left and not node.right:\n",
    "            return current_sum\n",
    "\n",
    "        # 递归左子树和右子树\n",
    "        return dfs(node.left, current_sum) + dfs(node.right, current_sum)\n",
    "\n",
    "    return dfs(root, 0)\n",
    "\n",
    "\n",
    "# 辅助函数：构建树\n",
    "def build_tree(values):\n",
    "    if not values:\n",
    "        return None\n",
    "    root = TreeNode(values[0])\n",
    "    queue = [root]\n",
    "    i = 1\n",
    "    while queue and i < len(values):\n",
    "        node = queue.pop(0)\n",
    "        if values[i] is not None:\n",
    "            node.left = TreeNode(values[i])\n",
    "            queue.append(node.left)\n",
    "        i += 1\n",
    "        if i < len(values) and values[i] is not None:\n",
    "            node.right = TreeNode(values[i])\n",
    "            queue.append(node.right)\n",
    "        i += 1\n",
    "    return root\n",
    "\n",
    "\n",
    "# 测试\n",
    "root = build_tree([1, 2, 3])\n",
    "root2 = build_tree([4,9,0,5,1])\n",
    "print(\"从根节点到叶节点生成的数字之和:\", sumNumbers(root))\n",
    "print(\"从根节点到叶节点生成的数字之和:\", sumNumbers(root2))\n",
    "\n"
   ]
  },
  {
   "cell_type": "markdown",
   "metadata": {},
   "source": [
    "your algorithm time complexity is: O(n)"
   ]
  },
  {
   "cell_type": "markdown",
   "metadata": {},
   "source": [
    "## 问题 10  \n",
    "\n",
    "给你一个二叉树的根节点 root ， 检查它是否轴对称。\n",
    "\n",
    "1. 分析算法设计思路，计算时间复杂度，并基于python编程实现\n",
    "2. \\* 设计使用递归和迭代两种方法解决这个问题，计算时间复杂度，并基于python编程实现\n",
    "\n",
    "e.g.:\n",
    "---\n",
    "1.\n",
    "\n",
    " <div style=\"text-align:center;width:200px;\"> <img alt=\"figure\" src=\"./fig/hw3q11-1.png\"> </div>\n",
    "\n",
    " 输入：root = [1,2,2,3,4,4,3]， 输出：true\n",
    "\n",
    "解释：二叉树 [1,2,2,3,4,4,3] 对称。\n",
    "\n",
    "2.\n",
    "\n",
    " <div style=\"text-align:center;width:200px;\"> <img alt=\"figure\" src=\"./fig/hw3q11-2.png\"> </div>\n",
    "\n",
    " 输入：root = [1,2,2,null,3,null,3]， 输出：false"
   ]
  },
  {
   "cell_type": "markdown",
   "metadata": {},
   "source": [
    "idea\n",
    "### 🔁 递归方法判断二叉树是否对称\r\n",
    "\r\n",
    "- **递归方法概述**：  \r\n",
    "  我们可以使用递归的方法来判断一棵树是否对称。对于树中的任意两个节点，假设我们正在比较节点 A 和节点 B，要满足以下两个条件：\r\n",
    "\r\n",
    "1. 节点 A 和 B 的值相等；\r\n",
    "2. 节点 A 的左子树应该与节点 B 的右子树对称，节点 A 的右子树应该与节点 B 的左子树对称。\r\n",
    "\r\n",
    "- **递归判断逻辑**：  \r\n",
    "  如果这两个条件都成立，说明节点 A 和节点 B 是镜像对称的，我们可以递归地继续比较它们的子树。\r\n",
    "\r\n",
    "- **最终判断**：  \r\n",
    "  从根节点的左右子树开始判断，整个树满足镜像条件，即为对称树。\r\n"
   ]
  },
  {
   "cell_type": "code",
   "execution_count": 13,
   "metadata": {},
   "outputs": [
    {
     "name": "stdout",
     "output_type": "stream",
     "text": [
      "树是否对称: True\n",
      "树是否对称: False\n"
     ]
    }
   ],
   "source": [
    "# add your code here\n",
    "class TreeNode:\n",
    "    def __init__(self, val=0, left=None, right=None):\n",
    "        self.val = val\n",
    "        self.left = left\n",
    "        self.right = right\n",
    "\n",
    "def isSymmetric(root: TreeNode) -> bool:\n",
    "    # 辅助函数：检查两个树是否是镜像对称\n",
    "    def isMirror(t1, t2):\n",
    "        # 如果两个树都为空，说明是对称的\n",
    "        if not t1 and not t2:\n",
    "            return True\n",
    "        # 如果只有一个为空，另一个不为空，说明不对称\n",
    "        if not t1 or not t2:\n",
    "            return False\n",
    "        # 两个节点值相等，递归比较它们的子树\n",
    "        return t1.val == t2.val and isMirror(t1.left, t2.right) and isMirror(t1.right, t2.left)\n",
    "\n",
    "    # 对称的树满足左子树和右子树是镜像的\n",
    "    if not root:\n",
    "        return True\n",
    "    return isMirror(root.left, root.right)\n",
    "\n",
    "# 辅助函数：构建树\n",
    "def build_tree(values):\n",
    "    if not values:\n",
    "        return None\n",
    "    root = TreeNode(values[0])\n",
    "    queue = [root]\n",
    "    i = 1\n",
    "    while queue and i < len(values):\n",
    "        node = queue.pop(0)\n",
    "        if values[i] is not None:\n",
    "            node.left = TreeNode(values[i])\n",
    "            queue.append(node.left)\n",
    "        i += 1\n",
    "        if i < len(values) and values[i] is not None:\n",
    "            node.right = TreeNode(values[i])\n",
    "            queue.append(node.right)\n",
    "        i += 1\n",
    "    return root\n",
    "\n",
    "# 测试\n",
    "root = build_tree([1, 2, 2, 3, 4, 4, 3])\n",
    "print(\"树是否对称:\", isSymmetric(root))  # 输出: True\n",
    "\n",
    "root2 = build_tree([1, 2, 2, None, 3, None, 3])\n",
    "print(\"树是否对称:\", isSymmetric(root2))  # 输出: False\n",
    "\n"
   ]
  },
  {
   "cell_type": "markdown",
   "metadata": {},
   "source": [
    "your algorithm time complexity is: O(n)"
   ]
  },
  {
   "cell_type": "markdown",
   "metadata": {},
   "source": [
    "## 问题 11  \n",
    "\n",
    "给你一个由 '1'（陆地）和 '0'（水）组成的的二维网格，请你计算网格中岛屿的数量。岛屿总是被水包围，并且每座岛屿只能由水平方向和/或竖直方向上相邻的陆地连接形成。\n",
    "\n",
    "此外，你可以假设该网格的四条边均被水包围。\n",
    "\n",
    "分析算法设计思路，计算时间复杂度，并基于python编程实现\n",
    "\n",
    "e.g.:\n",
    "---\n",
    "1.\n",
    "输入：grid = [\n",
    "\n",
    "    [\"1\",\"1\",\"1\",\"1\",\"0\"],\n",
    "\n",
    "    [\"1\",\"1\",\"0\",\"1\",\"0\"], \n",
    "\n",
    "    [\"1\",\"1\",\"0\",\"0\",\"0\"], \n",
    "\n",
    "    [\"0\",\"0\",\"0\",\"0\",\"0\"]  \n",
    "\n",
    "]\n",
    "\n",
    "输出：1\n",
    "\n",
    "2.\n",
    "输入：grid = [\n",
    "\n",
    "    [\"1\",\"1\",\"0\",\"0\",\"0\"],\n",
    "\n",
    "    [\"1\",\"1\",\"0\",\"0\",\"0\"],\n",
    "\n",
    "    [\"0\",\"0\",\"1\",\"0\",\"0\"],\n",
    "\n",
    "    [\"0\",\"0\",\"0\",\"1\",\"1\"]\n",
    "\n",
    "]\n",
    "\n",
    "输出：3"
   ]
  },
  {
   "cell_type": "markdown",
   "metadata": {},
   "source": [
    "idea:\n",
    "### 🏝 岛屿数量问题 - 算法思路（DFS）\r\n",
    "\r\n",
    "- **遍历每一个网格**：  \r\n",
    "  从网格的每个位置开始遍历，如果遇到值为 `'1'` 的陆地，就开始进行搜索，找到这个岛屿并将其标记为已访问。\r\n",
    "\r\n",
    "- **深度优先搜索（DFS）**：  \r\n",
    "  - 当我们找到一个新的岛屿（即网格中某个位置的值为 `'1'`），使用 DFS 遍历所有与该位置相连的陆地。  \r\n",
    "  - 对于每个陆地节点，将其值修改为 `'0'`，表示它已被访问，避免重复访问。\r\n",
    "\r\n",
    "- **岛屿计数**：  \r\n",
    "  每当我们找到一个新的未访问的陆地时，说明我们发现了一个新的岛屿，计数器加 1。\r\n",
    "\r\n",
    "- **结束条件**：  \r\n",
    "  遍历完整个网格后，计数器的值即为岛屿的数量。\r\n"
   ]
  },
  {
   "cell_type": "code",
   "execution_count": 14,
   "metadata": {},
   "outputs": [
    {
     "name": "stdout",
     "output_type": "stream",
     "text": [
      "岛屿数量: 1\n",
      "岛屿数量: 3\n"
     ]
    }
   ],
   "source": [
    "# add your code here\n",
    "def numIslands(grid):\n",
    "    # 检查网格是否为空\n",
    "    if not grid:\n",
    "        return 0\n",
    "\n",
    "    # 获取网格的行数和列数\n",
    "    rows, cols = len(grid), len(grid[0])\n",
    "\n",
    "    # 深度优先搜索 (DFS) 函数\n",
    "    def dfs(r, c):\n",
    "        # 如果当前坐标超出网格范围或者当前位置是水（'0'），则返回\n",
    "        if r < 0 or r >= rows or c < 0 or c >= cols or grid[r][c] == '0':\n",
    "            return\n",
    "        # 将当前陆地标记为水，避免重复访问\n",
    "        grid[r][c] = '0'\n",
    "        # 递归访问上下左右四个方向的相邻陆地\n",
    "        dfs(r + 1, c)\n",
    "        dfs(r - 1, c)\n",
    "        dfs(r, c + 1)\n",
    "        dfs(r, c - 1)\n",
    "\n",
    "    island_count = 0\n",
    "    # 遍历整个网格\n",
    "    for i in range(rows):\n",
    "        for j in range(cols):\n",
    "            # 如果当前格子是陆地（'1'），说明发现了一个岛屿\n",
    "            if grid[i][j] == '1':\n",
    "                # 使用 DFS 将当前岛屿的所有陆地标记为水\n",
    "                dfs(i, j)\n",
    "                # 计数器加 1\n",
    "                island_count += 1\n",
    "\n",
    "    return island_count\n",
    "\n",
    "\n",
    "# 测试\n",
    "grid = [\n",
    "    [\"1\", \"1\", \"1\", \"1\", \"0\"],\n",
    "    [\"1\", \"1\", \"0\", \"1\", \"0\"],\n",
    "    [\"1\", \"1\", \"0\", \"0\", \"0\"],\n",
    "    [\"0\", \"0\", \"0\", \"0\", \"0\"]\n",
    "]\n",
    "\n",
    "print(\"岛屿数量:\", numIslands(grid))\n",
    "grid2 = [\n",
    "    [\"1\",\"1\",\"0\",\"0\",\"0\"],\n",
    "    [\"1\",\"1\",\"0\",\"0\",\"0\"],\n",
    "    [\"0\",\"0\",\"1\",\"0\",\"0\"],\n",
    "    [\"0\",\"0\",\"0\",\"1\",\"1\"]\n",
    "]\n",
    "print(\"岛屿数量:\", numIslands(grid2))\n"
   ]
  },
  {
   "cell_type": "markdown",
   "metadata": {},
   "source": [
    "your algorithm time complexity is:O(m * n)，其中 m 和 n 分别是网格的行数和列数"
   ]
  },
  {
   "cell_type": "code",
   "execution_count": null,
   "metadata": {},
   "outputs": [],
   "source": []
  },
  {
   "cell_type": "code",
   "execution_count": null,
   "metadata": {},
   "outputs": [],
   "source": []
  }
 ],
 "metadata": {
  "kernelspec": {
   "display_name": "Python 3 (ipykernel)",
   "language": "python",
   "name": "python3"
  },
  "language_info": {
   "codemirror_mode": {
    "name": "ipython",
    "version": 3
   },
   "file_extension": ".py",
   "mimetype": "text/x-python",
   "name": "python",
   "nbconvert_exporter": "python",
   "pygments_lexer": "ipython3",
   "version": "3.11.7"
  }
 },
 "nbformat": 4,
 "nbformat_minor": 4
}
